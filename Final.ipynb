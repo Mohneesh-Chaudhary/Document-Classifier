{
 "cells": [
  {
   "cell_type": "code",
   "execution_count": 19,
   "id": "f321b3ce",
   "metadata": {},
   "outputs": [
    {
     "name": "stderr",
     "output_type": "stream",
     "text": [
      "WARNING:absl:Compiled the loaded model, but the compiled metrics have yet to be built. `model.compile_metrics` will be empty until you train or evaluate the model.\n"
     ]
    },
    {
     "name": "stdout",
     "output_type": "stream",
     "text": [
      "\u001b[1m1/1\u001b[0m \u001b[32m━━━━━━━━━━━━━━━━━━━━\u001b[0m\u001b[37m\u001b[0m \u001b[1m0s\u001b[0m 114ms/step\n",
      "Predicted class: news_article\n"
     ]
    }
   ],
   "source": [
    "from tensorflow.keras.models import load_model \n",
    "from tensorflow.keras.preprocessing import image \n",
    "import numpy as np\n",
    "import os\n",
    "\n",
    "\n",
    "model = load_model('document_classifier.h5')\n",
    "\n",
    "\n",
    "class_labels = ['advertisement', 'budget', 'email', 'file_folder', 'form', 'handwritten', 'invoice', 'letter', \n",
    "                'memo', 'news_article', 'presentation', 'questionnaire', 'resume', 'scientific_publication', \n",
    "                'scientific_report', 'specification']\n",
    "\n",
    "\n",
    "def load_and_preprocess_image(img_path, target_size=(224, 224)):\n",
    "    img = image.load_img(img_path, target_size=target_size)\n",
    "    img_array = image.img_to_array(img)\n",
    "    img_array = img_array / 255.0  # Normalize\n",
    "    img_array = np.expand_dims(img_array, axis=0)\n",
    "    return img_array\n",
    "\n",
    "\n",
    "img_path = \"./sample.jpg\"  \n",
    "img_array = load_and_preprocess_image(img_path)\n",
    "\n",
    "predictions = model.predict(img_array)\n",
    "predicted_class = class_labels[np.argmax(predictions)]\n",
    "\n",
    "print(f\"Predicted class: {predicted_class}\")\n"
   ]
  }
 ],
 "metadata": {
  "kernelspec": {
   "display_name": "Python 3",
   "language": "python",
   "name": "python3"
  },
  "language_info": {
   "codemirror_mode": {
    "name": "ipython",
    "version": 3
   },
   "file_extension": ".py",
   "mimetype": "text/x-python",
   "name": "python",
   "nbconvert_exporter": "python",
   "pygments_lexer": "ipython3",
   "version": "3.10.11"
  }
 },
 "nbformat": 4,
 "nbformat_minor": 5
}
